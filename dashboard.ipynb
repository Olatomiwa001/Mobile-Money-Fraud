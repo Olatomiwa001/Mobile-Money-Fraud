{
 "cells": [
  {
   "cell_type": "code",
   "execution_count": 2,
   "metadata": {},
   "outputs": [
    {
     "name": "stderr",
     "output_type": "stream",
     "text": [
      "2025-03-29 18:54:35.970 WARNING streamlit.runtime.scriptrunner_utils.script_run_context: Thread 'MainThread': missing ScriptRunContext! This warning can be ignored when running in bare mode.\n",
      "2025-03-29 18:54:36.461 \n",
      "  \u001b[33m\u001b[1mWarning:\u001b[0m to view this Streamlit app on a browser, run it with the following\n",
      "  command:\n",
      "\n",
      "    streamlit run C:\\Users\\User\\AppData\\Roaming\\Python\\Python310\\site-packages\\ipykernel_launcher.py [ARGUMENTS]\n",
      "2025-03-29 18:54:36.461 Thread 'MainThread': missing ScriptRunContext! This warning can be ignored when running in bare mode.\n",
      "2025-03-29 18:54:36.461 Thread 'MainThread': missing ScriptRunContext! This warning can be ignored when running in bare mode.\n",
      "2025-03-29 18:54:36.465 Thread 'MainThread': missing ScriptRunContext! This warning can be ignored when running in bare mode.\n",
      "2025-03-29 18:54:36.465 Thread 'MainThread': missing ScriptRunContext! This warning can be ignored when running in bare mode.\n",
      "2025-03-29 18:54:36.467 Thread 'MainThread': missing ScriptRunContext! This warning can be ignored when running in bare mode.\n",
      "2025-03-29 18:54:36.467 Thread 'MainThread': missing ScriptRunContext! This warning can be ignored when running in bare mode.\n"
     ]
    }
   ],
   "source": [
    "import streamlit as st\n",
    "import pandas as pd\n",
    "import matplotlib.pyplot as plt\n",
    "import seaborn as sns\n",
    "\n",
    "st.title(\"Fraud Detection Dashboard\")\n",
    "\n",
    "# Upload test data\n",
    "uploaded_file = st.file_uploader(\"Upload transaction data CSV\", type=[\"csv\"])\n",
    "if uploaded_file is not None:\n",
    "    data = pd.read_csv(uploaded_file)\n",
    "    st.write(\"Data Preview:\", data.head())\n",
    "    \n",
    "    # Make predictions\n",
    "    if st.button(\"Run Fraud Detection\"):\n",
    "        results = []\n",
    "        for _, row in data.iterrows():\n",
    "            pred, prob = predict_fraud(row.to_dict())\n",
    "            results.append({\"transaction_id\": row.get(\"transaction_id\", \"Unknown\"), \n",
    "                           \"fraud_probability\": prob,\n",
    "                           \"is_fraud\": pred})\n",
    "        \n",
    "        results_df = pd.DataFrame(results)\n",
    "        st.write(\"Prediction Results:\", results_df)\n",
    "        \n",
    "        # Plot distribution\n",
    "        fig, ax = plt.subplots()\n",
    "        sns.histplot(results_df[\"fraud_probability\"], bins=20)\n",
    "        plt.title(\"Fraud Probability Distribution\")\n",
    "        st.pyplot(fig)"
   ]
  }
 ],
 "metadata": {
  "kernelspec": {
   "display_name": "Python 3",
   "language": "python",
   "name": "python3"
  },
  "language_info": {
   "codemirror_mode": {
    "name": "ipython",
    "version": 3
   },
   "file_extension": ".py",
   "mimetype": "text/x-python",
   "name": "python",
   "nbconvert_exporter": "python",
   "pygments_lexer": "ipython3",
   "version": "3.10.11"
  }
 },
 "nbformat": 4,
 "nbformat_minor": 2
}
